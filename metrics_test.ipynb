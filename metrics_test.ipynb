{
 "cells": [
  {
   "cell_type": "markdown",
   "metadata": {},
   "source": [
    "### LIBRARIES"
   ]
  },
  {
   "cell_type": "code",
   "execution_count": 1,
   "metadata": {},
   "outputs": [],
   "source": [
    "import pandas as pd\n",
    "import numpy as np\n",
    "import networkx as nx\n",
    "import community\n",
    "import igraph as ig \n",
    "import leidenalg as la \n",
    "\n",
    "import matplotlib as mpl\n",
    "import matplotlib.pyplot as plt\n",
    "from matplotlib.colors import LinearSegmentedColormap\n",
    "from matplotlib.lines import Line2D\n",
    "from matplotlib.font_manager import FontProperties \n",
    "from mpl_toolkits.axes_grid1 import make_axes_locatable\n",
    "import seaborn as sns\n",
    "\n",
    "from utils.utils import load_theme, cohesion_metrics\n",
    "from tqdm import tqdm\n",
    "import warnings\n",
    "import ast\n",
    "\n",
    "warnings.filterwarnings('ignore')"
   ]
  },
  {
   "cell_type": "markdown",
   "metadata": {},
   "source": [
    "### DATASET"
   ]
  },
  {
   "cell_type": "code",
   "execution_count": 2,
   "metadata": {},
   "outputs": [],
   "source": [
    "df = pd.read_csv('dataset/transfers_complete.csv')\n",
    "df = df[df[\"is_free\"] == False]\n",
    "df = df[df[\"is_loan\"] == False]\n",
    "df = df[df[\"is_loan_end\"] == False]\n",
    "df = df[df[\"is_retired\"] == False]\n",
    "df = df[df[\"counter_team_name\"] != \"Without Club\"]\n",
    "transfers = df[['team_name', 'counter_team_name', 'transfer_fee_amnt']]"
   ]
  },
  {
   "cell_type": "markdown",
   "metadata": {},
   "source": [
    "### GRAPH"
   ]
  },
  {
   "cell_type": "code",
   "execution_count": 3,
   "metadata": {},
   "outputs": [],
   "source": [
    "G = nx.from_pandas_edgelist(transfers, source='team_name', target='counter_team_name', edge_attr='transfer_fee_amnt', create_using=nx.DiGraph())\n",
    "\n",
    "degree_centrality = nx.degree_centrality(G)\n",
    "betweenness_centrality = nx.betweenness_centrality(G)\n",
    "eigenvector_centrality = nx.eigenvector_centrality(G, max_iter=1000)\n",
    "\n",
    "nx.set_node_attributes(G, degree_centrality, 'degree_centrality')\n",
    "nx.set_node_attributes(G, betweenness_centrality, 'betweenness_centrality')\n",
    "nx.set_node_attributes(G, eigenvector_centrality, 'eigenvector_centrality')"
   ]
  },
  {
   "cell_type": "markdown",
   "metadata": {},
   "source": [
    "### METRICS"
   ]
  },
  {
   "cell_type": "markdown",
   "metadata": {},
   "source": [
    "CLUSTERING"
   ]
  },
  {
   "cell_type": "code",
   "execution_count": 4,
   "metadata": {},
   "outputs": [
    {
     "name": "stdout",
     "output_type": "stream",
     "text": [
      "[('Chelsea FC U18', 1.0), ('Rochdale AFC', 1.0), ('SK Sigma Olomouc', 1.0), ('Chelsea FC Reserves', 1.0), ('Manchester City U18', 1.0), ('Arsenal FC Reserves', 1.0), ('Chunnam Dragons', 1.0), ('Wrexham AFC', 1.0), ('Borussia Dortmund U19', 1.0), ('Crewe Alexandra', 1.0), ('Chesterfield FC', 1.0), ('Aston Villa U21', 1.0), ('Tottenham Hotspur U21', 1.0), ('Falkirk FC', 1.0), ('Rotherham United', 1.0), ('Manchester United U23', 1.0), ('Guangzhou R&F', 1.0), ('IFK Norrköping', 1.0), ('Crystal Palace U21', 1.0), ('Villarreal CF B', 1.0), ('Club Atlético Lanús', 1.0), ('Club Deportivo Godoy Cruz Antonio Tomba', 1.0), ('Real Sociedad B', 1.0), ('União São João Esporte Clube (SP)', 1.0), ('Udinese Primavera', 1.0), ('Real Oviedo', 1.0), ('Wuhan Zall', 1.0), ('Racing Club de Montevideo', 1.0), ('Pomezia Calcio', 1.0), ('AC Isola Liri', 1.0)]\n"
     ]
    }
   ],
   "source": [
    "clustering_individual = nx.clustering(G)\n",
    "sorted_ci = sorted(clustering_individual.items(), key=lambda x:x[1], reverse=True)[:30]\n",
    "print(sorted_ci)"
   ]
  },
  {
   "cell_type": "markdown",
   "metadata": {},
   "source": [
    "AGGREGAZIONE\n"
   ]
  },
  {
   "cell_type": "code",
   "execution_count": 5,
   "metadata": {},
   "outputs": [
    {
     "name": "stdout",
     "output_type": "stream",
     "text": [
      "0.0943225348273339\n"
     ]
    }
   ],
   "source": [
    "transitivity = nx.transitivity(G)\n",
    "print(transitivity)"
   ]
  },
  {
   "cell_type": "markdown",
   "metadata": {},
   "source": [
    "DENSITÀ"
   ]
  },
  {
   "cell_type": "code",
   "execution_count": 6,
   "metadata": {},
   "outputs": [
    {
     "name": "stdout",
     "output_type": "stream",
     "text": [
      "0.0022821049015041145\n"
     ]
    }
   ],
   "source": [
    "density = nx.density(G)\n",
    "print(density)"
   ]
  },
  {
   "cell_type": "markdown",
   "metadata": {},
   "source": [
    "ASSORTATIVITÀ"
   ]
  },
  {
   "cell_type": "code",
   "execution_count": 7,
   "metadata": {},
   "outputs": [
    {
     "name": "stdout",
     "output_type": "stream",
     "text": [
      "0.018044380793770555\n"
     ]
    }
   ],
   "source": [
    "assortativity = nx.degree_assortativity_coefficient(G)\n",
    "print(assortativity)"
   ]
  },
  {
   "cell_type": "markdown",
   "metadata": {},
   "source": [
    "CONNESSIONE\n",
    "\n",
    "! Inutile forse perché il grado è direzionale"
   ]
  },
  {
   "cell_type": "code",
   "execution_count": 8,
   "metadata": {},
   "outputs": [
    {
     "name": "stdout",
     "output_type": "stream",
     "text": [
      "[{'Latina Calcio 1932', 'SSD Fidelis Andria', 'Excelsior Rotterdam', 'SC Heerenveen U21', 'Spartak Trnava', 'Renova Dzepciste', 'Estudiantes de Mérida', 'FK Ufa', 'Almere City FC', 'Ital-Lenti Belluno', 'Desportivo Aves', 'AS Monaco U19', 'AFC Bournemouth U18', 'FC Ingolstadt 04', 'Genoa CFC', 'Benfica Luanda', 'UD Tocha', 'New York City FC', 'RC Strasbourg Alsace', 'SK Austria Klagenfurt', 'FC Girondins Bordeaux', 'Club Guaraní', 'SO Cholet', 'FC Stade Rennes B', 'Chamois Niortais FC', 'Rio Claro Futebol Clube (SP)', 'CD Aves B', 'Podbeskidzie Bielsko-Biala', 'Città di Gela', 'Berço SC', 'FC Slovan Liberec', 'Atlético de Rafaela', '1.FC Magdeburg', 'KF Vushtrria', 'AZ Alkmaar U19', 'Clube Atlético Bragantino (SP)', 'Portsmouth FC U18', 'Lommel SK', 'FC Nantes B', 'FK Proleter Novi Sad', 'Vitória Guimarães SC B', 'Cercle Brugge', 'FC Grosseto', 'JEF United Chiba', 'Grasshopper Club Zürich U18', 'PSV Eindhoven U19', 'FC Timisoara', 'Makedonija Gjorce Petrov', 'Toulouse FC B', 'Sunderland AFC', 'Blackpool FC', 'Cotonsport de Garoua', 'FC St. Pauli II', 'Polisportiva Tirreno', 'VfL Bochum', 'Borussia Mönchengladbach', 'Al-Qadsiah FC', 'CF Monterrey', 'Desportivo Brasil Ltda (SP)', 'Rapid Bucharest', 'FC Universitatea Cluj', 'Büyüksehir Belediye Erzurumspor', 'FC Flora Tallinn', 'Maccabi Haifa', 'Novara FC', '1.FC Heidenheim 1846 U19', 'KF Teuta', 'Olympique Lyon U19', 'Lamontville Golden Arrows', 'Esporte Clube Vitória', 'FC Pro Vercelli 1892', 'SS Juve Stabia', 'AC Arles-Avignon', 'Wigan Athletic', 'Mouscron-Péruwelz', 'PEC Zwolle U19', 'FC St. Pauli', 'Shakhtar 3 Donetsk', 'Rio Branco Esporte Clube (SP)', 'AS Mangasport Moanda', 'Club Sporting Cristal', 'Tombense Futebol Clube (MG)', 'Barcelona SC Guayaquil', 'AS Lucchese Libertas', 'SPAL', 'Dacia Chisinau', 'Atlético Monte Azul (SP)', 'GD Estoril Praia U17', 'FC Lahti', 'Red Bull Salzburg', 'KV Mechelen', 'Crystal Palace U18', 'Avaí FC', 'Istanbul Büyüksehir Belediyespor', 'Cavese Berretti', 'Madureira Esporte Clube (RJ)', 'Wolverhampton Wanderers U18', 'Olympique Marseille U19', 'Alemannia Aachen', 'Oliveira do Bairro SC', 'SS Città di Campobasso', 'Bristol City', 'San Antonio FC', 'Leicester City U23', 'FC Porto', 'Gsd Castelfidardo Calcio', 'Feyenoord/Excelsior U19', 'Yeni Malatyaspor', 'Al-Tai FC', 'Thonon Évian Grand Genève FC B', 'Trelleborgs FF', 'Toledo Esporte Clube (PR)', 'US Avellino 1912', 'FC Le Mans B', 'CA Petróleos Luanda', 'Asociación Atlética Argentinos Juniors', 'Club Athletico Paranaense', 'CD Feirense Sub-23', 'Paysandu Sport Club (PA)', 'Atalanta Under 18', 'Imolese Calcio 1919', 'Reading FC U18', 'Genoa Under 17', 'Racing Club Abidjan', 'TSG 1899 Hoffenheim U19', 'Apollon Limassol', 'Liaoning FC', 'Wydad Casablanca', 'Videoton FC', 'MOL Fehérvár FC', 'Real Sociedad B', nan, 'Deportivo Guadalajara', 'CD Cova Piedade', 'Hapoel Kfar Saba', 'HNK Gorica', 'Rydaholms GoIF', 'FC Luzern', 'US Vibonese', 'ACD Grifoponte Torgiano', 'Al-Ettifaq FC', 'MSK Zilina', 'Korona Kielce', 'FC Paris Saint-Germain B', 'Santa Helena Esporte Clube (GO)', 'GD Chaves U19', 'RKC Waalwijk U21', 'Rayo Vallecano B', 'AJ Auxerre U19', 'CD Santa Clara U19', 'FC Augsburg', 'Barra Futebol Clube (SC)', 'Paraná Clube', 'Swansea City', 'Szombathelyi Haladás', 'FC Dinamo Bucharest', 'Hull City U18', 'Ceará Sporting Club', 'Alanyaspor', 'LOSC Lille', 'Sporting CP B', 'Wolverhampton Wanderers', 'Queens Park Rangers U18', 'Sporting CP U23', 'Dalian Professional', 'Tudu Mighty Jets', 'Belenenses SAD U23', 'FC Istres Ouest Provence', 'Inverness Caledonian Thistle FC', 'Thanda Royal Zulu FC', 'RNK Split', 'RC Deportivo B', 'FC Stade-Lausanne-Ouchy', 'Club Deportivo Morón', 'GD Ribeirão', 'Hajer Club', 'FK Haugesund', 'Club de Regatas Vasco da Gama U20', 'Aston Villa U18', 'Casalgrandese', 'Shabab Al-Ahli Club', 'Rabotnicki Skopje', '1.FC Heidenheim 1846', 'Rangers FC', 'Stade Reims', 'Stade Rennais FC U19', 'FC Den Bosch', 'Santos FC U20', 'Cádiz CF Mirandilla', 'TSG 1899 Hoffenheim II', 'AC Carpenedolo', 'NorthEast United FC', 'CF Fuenlabrada', 'Khaitan Sporting Club', 'Unión Española', 'Valur Reykjavík', 'Real Jaén CF', 'Atlético Nacional', 'Shrewsbury Town', 'Spartaks Jurmala', 'GD Tourizense', 'Helmond Sport', 'Zulia FC', 'Ascoli Calcio 1898', 'Racing Strasbourg U19', 'Universitatea Craiova', 'Clube Atlético Mineiro B', 'Vitória Setúbal FC U19', 'CD Cruz Azul Hidalgo', 'CSMS Iași', 'Paris FC B', 'Siena Berretti', 'SC Veendam', 'Taranto FC 1927', 'FK Vojvodina Novi Sad', 'AC Le Havre B', 'Panionios Athens', 'Levante UD', 'FC Volendam', 'Catania Primavera', 'SL Benfica', 'FC Barcelona', 'SSD Imperia 1923', 'Gaziantep FK', 'Aalborg BK', 'GSD RapalloBogliasco', 'Carlisle United', 'Karlsruher SC U19', 'SK Dnipro-1', 'Hallescher FC', \"Excelsior '31 Rijssen\", 'Cavese 1919', 'Örebro SK', 'Omonia Nicosia', 'Real Valladolid B', 'Fluminense Football Club U20', 'Le Mans Union Club 72', 'Helsingborgs IF', 'FC Baniyas', 'FC Aurore Bienne', 'Shanghai Port', 'GNK Dinamo Zagreb', 'FK Baumit Jablonec', 'Cádiz CF B', 'Leeds United', 'West Bromwich Albion U18', 'Tianjin Tianhai (-2019)', 'FK Bodø/Glimt', 'AC Bellinzona', 'Oud-Heverlee Leuven', '1.FSV Mainz 05', 'Chornomorets Odessa', 'APOP Kinyras Pegias', 'Willem II Tilburg', 'RSCA Futures', 'Liverpool FC Montevideo', 'SC Cambuur-Leeuwarden U21', 'Budapest Honvéd FC', 'El Masry SC', 'FK Jablonec', 'Panathinaikos Athens', 'Stade Reims B', 'SS Racing Club Roma', 'Polonia Bytom', 'Americano Futebol Clube (RJ)', 'FK Palanga (-2020)', 'Virtus Francavilla Calcio', 'Fenerbahce', 'Acqui US 1911', 'Unknown', 'Sönderjyske', 'Pescara Primavera', 'FC Utrecht U19', 'BATE Borisov', 'Sporting CP', 'Guizhou Hengfeng', 'Guarani Futebol Clube (SP)', 'Ümraniyespor', 'Krylya Sovetov Samara', 'Wisla Kraków', 'Clube Sociedade Esportiva (AL)', 'Manama Club', 'Fatih Karagümrük', 'Atlético Levante UD', 'Raków Częstochowa', 'Blackburn Rovers U18', 'Calcio Catania', 'FC Hermannstadt', 'SC Praiense', 'FC Vysocina Jihlava', 'Jagiellonia Bialystok', 'Al-Khaleej FC', 'Le Havre AC', 'VfL Bochum U19', 'Club Atlético Banfield', 'CF Peralada', 'Grêmio Foot-Ball Porto Alegrense', 'FC Emmen U21', 'Rochdale AFC', 'Vitória Setúbal FC', 'SS Matera Calcio', 'SC Cambuur Leeuwarden', 'Boavista FC B', 'NK Istra 1961', 'Masvingo United', 'Fortuna Sittard U19', 'NK Domzale', 'Rot-Weiß Oberhausen', 'Wolverhampton Wanderers U23', 'Kano Pillars', 'Aris Limassol', 'Calcio Foggia 1920', 'FC Groningen U21', 'FC Nordsjaelland U19', 'SS Lazio', 'A.C. Calvina Sport', 'Western Sydney Wanderers', 'Al-Ahly Tripoli', 'Avaí Futebol Clube (SC)', 'CF Montréal', 'KV Oostende', 'Clube de Regatas do Flamengo U20', 'CF Estrela Amadora U19', 'Benevento Primavera', 'FC Mendrisio-Stabio', 'ASD Pro Eureka', 'CD Santa Clara', 'CD Aves U23', 'Deportivo Municipal', 'LDU Quito', 'Cliftonville FC', 'Puskás Akadémia FC', 'Altay SK', 'Ajax Amsterdam U21', 'Kilmarnock FC', 'Feyenoord U18', 'AS Vita Club Kinshasa', 'AC Prato', 'De Graafschap Doetinchem U21', 'Chelsea FC U23', 'AC Sangiustese', 'SEF Torres 1903', 'SV Wehen Wiesbaden', 'Ferencvárosi TC', 'Henan Jianye', 'Anorthosis Famagusta', 'Parma FC', 'West Bromwich Albion U21', 'Volta Redonda Futebol Clube (RJ)', 'Vissel Kobe', 'Cagliari Primavera', 'GD Marinhais', 'Red Star Belgrade', 'NAC Breda U19', 'AC Reggiana 1919', 'VfL Bochum II', 'Racing Club', 'Lechia Gdansk', 'FCV Farul Constanta', 'Cardiff City U18', 'Wisla Plock', 'USL Dunkerque', 'VPV Purmersteijn', 'Hellas Verona Primavera', 'SCO Angers U19', 'Trastevere Calcio', 'Vitória de Setúbal FC U23', 'Savona FBC', 'Spezia Calcio', 'NK Rudes', 'Estoril Praia U19', 'AC Este 1920', 'Beijing Renhe', 'Lokomotiv Moscow II', 'FC Rouen 1899', 'Celta de Vigo U19', 'Club Atlético Boston River', 'CD Eldense', 'Clube Atlético Penapolense (SP)', 'Crystal Palace', 'Palermo FC', 'Fabriano Cerreto', 'Dinamo Moscow', 'Pordenone Calcio', 'Club Atlético Belgrano', 'VVV-Venlo U17', 'CD Tondela', 'Goiás Esporte Clube', 'SV Sandhausen', 'SpVgg Greuther Fürth U19', 'ACSM Politehnica Iasi', 'KSV Oudenaarde', 'GC Biaschesi', 'Reggina 1914', 'Huddersfield Town U18', 'Girona FC B', 'Sutton United', 'Atlas Guadalajara', 'FC Moscow', 'US Pro Vercelli', 'Carpi Primavera', 'IF Elfsborg', 'Sprimont Comblain Sport', 'Sangiuliano City', 'Grêmio Novorizontino (SP)', 'SD Huesca', 'Botev Plovdiv', 'Stade Rennais FC', 'Al-Arabi SC', 'Roda JC Kerkrade', 'Chester FC', 'União de Leiria', 'RB Leipzig', 'Free State Stars', 'Redhill FC', 'CR Flamengo', 'Wigan Athletic U23', 'Shkendija Tetovo', 'Juventude Clube Aljezurense', 'Fulham FC U18', 'Basaksehir FK', 'AC Monza', 'Cisco Roma', 'FC Matera', 'Rio Ave FC B', 'Santa Maria FC', 'HSC Montpellier B', 'CD Tondela U19', 'Chunnam Dragons', 'FC Hansa Rostock', 'Kawasaki Frontale', 'Young Violets Austria Wien', 'Adana Demirspor', 'Deportivo Pereira', 'Qarabağ FK', 'Al-Wasl SC', 'Lupa Roma FC', 'Independiente Santa Fe', 'Guizhou Renhe', '1913 Seregno Calcio', 'CD Castellón', 'FC Lugano', 'O Elvas CAD', 'Slaven Belupo Koprivnica', 'NK Varazdin', 'US Pistoiese 1921', 'Ajax Amsterdam', 'Gil Vicente FC', 'Real Valladolid Promesas', 'Everton FC U23', 'Litex Lovech', 'FC Barcelona Atlètic', 'ASO Chlef', 'SC Olhanense', 'ADO Den Haag U21', 'Al-Bukiryah FC', 'AFC Bournemouth', 'Chelsea FC', 'Deportivo Lara', 'FC Banik Ostrava', 'US Boulogne', 'Jura Sud Foot', 'Sepsi OSK Sf. Gheorghe', 'Roda JC Kerkrade U19', 'Bolton Wanderers', 'Sharjah Cultural Sports Club', 'Manchester City U23', 'FC Stumbras Kaunas (-2019)', 'MFK Karvina', 'Zaglebie Lubin', 'RC Lens U19', 'SC Freiburg U19', 'SC Vallée d’Aoste', 'Sport Club Internacional U20', 'NEC NijmegenFC Oss U21', 'Ituano Futebol Clube (SP)', 'Calcio Lecco 1912', 'Club Atlético River Plate', 'NFC Orlandina', 'Feralpisalò', 'SSD Monza 1912', 'Arsenal FC U21', 'Sport Huancayo', 'Al Ittihad Kalba Sports Club', 'Górnik Zabrze', 'Málaga CF U19', 'TSG 1899 Hoffenheim U17', 'Montañeros CF', 'Ascoli Picchio', 'Barra Futebol Clube (RS)', 'Boavista FC', 'Fulham FC', 'Montreal Impact', 'Toulouse FC U19', 'FC Bayern Munich II', 'Treviso FBC 1993', 'Al-Wehda FC', 'Etar Veliko Tarnovo', 'AC Perugia Calcio', 'Aurora Pro Patria', 'FC Crotone', 'FC Cesarense', 'Cotia Futebol Clube (SP)', 'SCO Angers', 'Carrarese Calcio 1908', 'Deportes Quindío', 'Club Sportif Sfaxien', 'FC Wil 1900', 'Ascoli Calcio', 'Bangu AC (RJ) U20', 'Manchester City', 'Naval 1º de Maio', 'Lyngby BK', 'Caykur Rizespor', 'Audax Italiano', 'Eintracht Braunschweig', 'Brescia Calcio', 'Real Oviedo', 'Birmingham City U18', 'ASD Astrea', 'CSKA Moscow', 'FC Paços de Ferreira U19', 'CD Tondela Sub-23', 'Aalesunds FK', 'FC Paços de Ferreira', 'Brisbane Roar', 'Sociedade Esportiva Palmeiras', 'Shanghai Shenhua Liansheng', 'F91 Dudelange', 'Foligno Juniores', 'IFK Norrköping', 'CD Costa do Sol', 'FCSB', 'Montpellier HSC B', 'Astra Giurgiu', 'Berekum Arsenal', 'GFC Ajaccio', 'Sociedade Esportiva do Gama (DF)', 'FC Volendam U18', 'Maccabi Petah Tikva', 'Cardiff City', 'TP Mazembe', 'Calcio Brusaporto', 'FC Viitorul Constanta', 'Standard de Liège U21', 'Latina Primavera', 'Go Ahead Eagles', 'Centro Sportivo Alagoano (AL)', 'FC Porto U19', 'R Charleroi SC', 'FC Villarreal C', 'FC Shirak Gyumri', 'Hellas Verona', 'Gondomar SC', 'Neftchi Baku', 'Associação Ferroviária de Esportes (SP)', 'Notts County', 'AS Livorno', 'FK Senica', 'AGOVV Apeldoorn', 'Três Passos Atlético Clube', 'SS Maceratese', 'Boavista FC U17', 'US Ancona', 'AFAD Djékanou', 'FC Ingolstadt 04 II', 'Felino', 'NS Mura', 'Bursaspor', 'CSD Colo Colo', 'Ghivizzano Borgoamozzano', 'Zaglebie Sosnowiec', 'Mirassol Futebol Clube (SP)', 'SE Palmeiras São Paulo U20', 'Inter Allies FC', 'SV Werder Bremen U19', 'PS Kemi Kings', 'Atalanta BC', 'GD Maputo', 'Royal Antwerp FC', 'FBC Melgar', 'Clube de Regatas Vasco da Gama', 'Roasso Kumamoto', 'Esporte Clube Bahia', 'Bayer 04 Leverkusen U19', 'Zhejiang Greentown', 'Al-Nassr Riad', 'FC Augsburg U19', 'Legia Warszawa', 'US Sassuolo', 'Arsenal Fútbol Club', 'ASD Oasi Sanfeliciana', 'Stade Brestois 29', 'Polisportiva Nuova Campobasso Calcio', 'Houston Dynamo', 'Feyenoord Rotterdam', 'Angers SCO', 'Kayserispor', 'West Ham United U18', 'Liga Desportiva de Maputo', 'New England Revolution', 'Maccabi Tel Aviv', 'PFC Lviv', 'SK Brann', 'Beerschot AC', 'Sunderland AFC Reserves', 'Shamrock Rovers', 'Cerezo Osaka', 'UR La Louvière Centre', 'Moreirense FC U19', 'SC Bastia', 'Clube Futebol Estrela da Amadora', 'Hércules CF', 'Académica Coimbra', '1.FC Saarbrücken', 'SC Covilhã', 'Bohemian Football Club', 'Charlotte FC', 'Calcio Padova', 'FK Qabala', 'Gloria Bistrita', 'Carabobo FC', 'Unione Sanremo', 'ASD Bustese 1963', 'FC Brügge U21', 'Sevilla FC', 'AZ Alkmaar', '1.FC Union Berlin U17', 'Silkeborg IF', 'Beerschot V.A.', 'Olympiakos Nicosia', 'RD Internapoli', 'VfB Stuttgart', 'SS Barletta Calcio', 'FC Lausanne-Sport', 'Shandong Luneng Taishan', 'US Gavorrano', 'NAC Breda', 'Real Madrid', 'CA Colón', 'SM Caen', 'Granada 74 CF (-2009)', 'Al-Nasr SC (UAE)', 'Go Ahead Eagles Deventer U21', 'Leones FC', 'AC Milan Youth', 'CA Independiente', 'Criciúma EC U20', 'Urawa Red Diamonds', 'Wadi Degla FC U23', 'FK Smederevo', 'Genclerbirligi Ankara', 'VVV-Venlo/Helmond Sport U19', 'IFK Göteborg', 'AC Bra', 'US Borgo a Buggiano 1920', 'FC Penafiel', 'Nueva Chicago', 'Alphense Boys', 'Al-Gharafa SC', 'Arenas Club', 'CFR Cluj', 'Vicenza Calcio', 'Leixões SC', '1.FC Kaiserslautern II', 'Lierse SK (- 2018)', 'AEK Athens', 'Wuhan Three Towns', 'Fondi Calcio', \"CD O'Higgins\", 'Dinamo Tbilisi', 'CD Trofense', 'Fulham FC U21', 'J.Malucelli Futebol', 'SSD Città di Brindisi', 'Leicester City U18', 'Afrique Football Elite', 'GC Alcobaça', 'Sapri Calcio 1928', 'Sampaio Corrêa Futebol Clube (MA)', 'Slovan Bratislava', \"DVS '33 Ermelo\", 'Girona FC', 'USD Scanzorosciate', 'Associação Chapecoense de Futebol', 'CD Numancia', 'LR Vicenza', 'EA Guingamp', 'Manchester United', 'FC Esperia Viareggio', 'ASG Nocerina', 'Botafogo Futebol Clube (SP)', 'Kardemir DC Karabükspor', 'Perugia Calcio', 'Torpedo Kutaisi', 'Sestao River', 'Neuchâtel Xamax', 'Red Star Belgrade U19', 'Siena Juniores', 'Vitória de Guimarães SC U23', 'Ajax Cape Town', 'Buriram United', 'CF União Madeira', 'Al-Bataeh CSC', 'SR Saint-Dié', 'Celaya FC', 'Catanzaro FC', 'SG Dynamo Dresden', 'FC Sochaux-Montbéliard B', 'Paraná Soccer Technical Center (PR)', 'AC Tuttocuoio', 'Arka Gdynia', 'FK Rostov', 'Anadia FC', 'Dukla Banska Bystrica', 'KSK Lierse Kempenzonen', 'Southend United', 'Scunthorpe United', 'CD Universidad Católica', 'Racing Santander U19', 'Aston Villa U23', 'AS Nancy-Lorraine B', 'Everton FC U18', 'Pogon Szczecin', 'Eintracht Braunschweig II', 'FC Groningen/Cambuur U19', 'Real Zaragoza B', 'São Carlos Futebol Clube (SP)', 'FCO Dijon U19', 'Bray Wanderers', 'Manchester City Reserves', 'Toronto FC', 'US Pergocrema 1932', 'Chongqing Lifan', 'Juventus Next Gen', 'Central Coast Mariners', 'Bilbao Athletic', 'NEC Nijmegen U19', 'Real Zaragoza', 'El-Jaish Sports Club', 'Club Juan Aurich', 'US Catanzaro', 'Tottenham Hotspur U23', 'FK Sutjeska Niksic', 'Atromitos Geroskipou', 'Padroense FC', 'Casertana FC', 'Cambridge United', '1.FC Köln II', 'Celtic FC', '1.FC Köln U19', 'SL Benfica U17', 'Elche CF', 'FK Atlantas Klaipeda (–2020)', 'Kasimpasa', 'Livorno Primavera', 'Brighton & Hove Albion', 'FC Famalicão U23', 'Club Atlético Independiente', 'FC Augsburg II', 'IFK Trollhättan', 'Al-Fayha FC', 'Club Jorge Wilstermann', 'Club Athlétique Bizertin', 'FK IMT Belgrad', 'Oldham Athletic', '1.FSV Mainz 05 II', 'Sparta Rotterdam U19', 'De Treffers Under 19', 'Ultimate Strikers Academy', 'Pandurii Targu Jiu', 'Vitória Guimarães SC', 'Heracles Almelo', 'Vicenza Youth', 'FK Vozdovac', 'CD Fátima', 'FC Barreirense', 'Tokushima Vortis', 'Atletico Uri', 'Hertha BSC U19', 'Udinese Calcio', 'Newcastle United Jets', 'FC Chiasso', 'SD Eibar', 'SC Telstar', 'FK Cukaricki', 'Rukh Brest', 'Guangxi Pingguo Haliao', 'USM Alger', 'Bury FC', 'Queens Park Rangers', 'FC Sochi', 'Deportivo La Guaira', 'Fenegrò', 'Club Atlético Platense', 'Kuwait SC', 'FC Paços de Ferreira U17', 'SS Milazzo', 'Go Ahead Eagles Deventer U19', 'Turris Calcio', 'Nissa FC', 'VVV-Venlo', 'SK Sturm Graz', 'Calcio Como', 'PAOK Thessaloniki', 'São Paulo Futebol Clube', 'Spartak Moscow', 'Sheffield Wednesday', 'Club Atlético Tigre', 'Al-Okhdood Club', 'Guarany Bagé Futebol Clube', 'Independiente Medellín', 'Jeju United', 'AS Roma', 'Córdoba CF B', 'RCD Mallorca', 'Stuttgarter Kickers', 'Sligo Rovers', 'Ittihad Kalba FC', 'Defensores de Belgrano', 'Perth Glory', 'CD Atlético Huila', 'Club de Foot Montréal', 'Córdoba CF', 'Clube Operário Desportivo', 'Bangu Atlético Clube (RJ)', 'FCO Dijon B', 'VVV-Venlo/Helmond Sport U21', 'Mazatlán FC', 'FBC Unione Venezia', 'Bnei Yehuda Tel Aviv', 'Clermont Foot Auvergne 63', 'St. Louis CITY SC', 'US Alessandria Calcio 1912', 'UD Las Palmas', 'Club Atlético San Lorenzo de Almagro', 'Real Madrid U19', 'SK Beveren', 'Orlando City Soccer Club', 'Celta Vigo B', 'Borussia Mönchengladbach U19', 'SC Braga U23', 'De Graafschap Doetinchem', 'SS Teramo Calcio', 'Millwall FC', 'Borussia Dortmund II', 'Galícia Esporte Clube (BA)', 'Campinense Clube (PB)', 'Valencia Mestalla', 'Chiapas FC', 'Al-Ahli Jeddah', 'FC Basel 1893', 'Club Atlético Rosario Central', 'Norwich City U18', 'FC Südtirol-Alto Adige', 'Arsenal FC', 'Cagliari Calcio', 'Odds BK', 'FC Marinhas', 'Heracles Almelo U21', 'Kuopion Palloseura', 'Mantova 1911', 'Al Qadisiyah FC', 'Stal Mielec', 'São Bernardo FC', 'Al-Faisaly FC', 'CR Al Hoceima', 'Juventude Évora SC', 'Jaguares de Chiapas', 'Losone Sportiva', 'Leicester City U21', 'CR Belouizdad', 'Tokyo Verdy', 'FK Hajduk Kula', 'Charity Stars FC', 'FC Barcelona U19', 'FC Empoli', 'US Triestina', 'Viking Stavanger', 'UD Maracena', 'Iraklis Thessaloniki', 'D.C. United', 'FC Lustenau', 'TSG 1899 Hoffenheim', 'US Salernitana 1919', 'SC Braga B', 'FC Cincinnati', 'Extremadura UD', 'FC Groningen U19', 'CD Pinhalnovense', 'AFC Eskilstuna', 'Royal Excelsior Virton', 'Viking FK', 'Kashima Antlers', 'Jiangsu Guoxin Sainty', 'CD 1º de Agosto', 'FC Bayern Munich U19', 'Fortuna Düsseldorf', 'ASD Sanvitese', 'VfB Stuttgart U17', 'Sport Club do Recife', 'SPAL Primavera', 'Central FC', 'Las Palmas Atlético', 'Gaziantepspor', 'Slavia Sofia', 'Norwich City', 'NAC Breda U21', 'HSC Montpellier U19', 'Amiens SC U19', 'Brescia Primavera', 'NK Celje', 'GD Joane', 'Norwich City U23', 'Rot Weiss Ahlen', 'CD Portosantense', 'AS Monaco', 'Deportivo de La Coruña', 'Wuhan FC', 'Al-Jazira (Abu Dhabi)', 'Al-Ittihad Tripoli', 'Alma Juventus Fano 1906', 'AZ Alkmaar U17', 'Celta de Vigo', 'Sangiovannese 1927', 'SC Paderborn 07 II', 'Guaratinguetá Futebol Ltda. (SP)', 'Odense Boldklub', 'Grenoble Foot 38 B', 'FC Aarau', 'Vitesse/AGOVV U21', 'FK Borac Cacak', 'Rubin Kazan', 'Deportes Tolima', 'Valencia CF', 'FC Schalke 04 U19', 'SM Caen U19', 'Galway United FC (- 2011)', 'Njalla Quan Sport Academy', 'Sanfrecce Hiroshima', 'Nashville SC', 'RFC Seraing', 'FC Castiglione', 'FC Admira Wacker Mödling', 'Anzhi Makhachkala', 'Leixões SC Sub-23', 'Kecskeméti TE', 'Hamburger SV II', 'CD Ourense (- 2014)', 'Paradou AC', 'Sunderland AFC U18', 'Lokomotiv Tashkent', 'Shanghai Greenland Shenhua', 'CR Flamengo U20', 'CD Lugo', 'FC Bari 1908', 'Panthère Sportive du Ndé', 'Avellino Calcio SSD', 'Venezia FC', 'FC Stade Rennes U19', 'Grasshopper Club Zurich', 'Crotone Primavera', 'KAS Eupen', 'Shenzhen FC', 'FC Pavia 1911', 'Resende Futebol Clube (RJ)', 'Jong KV Mechelen', 'IF Brommapojkarna', 'Zemplin Michalovce', 'Unirea Urziceni', 'Nea Salamina Famagusta', 'MFK Košice', 'AS Pescina Valle del Giovenco', 'Brasa Futebol Clube (SP)', 'SSD Mapello', 'Prato Youth', 'Frosinone Calcio', 'Los Angeles Galaxy', 'SC Verl', 'Rovaniemen Palloseura', 'América Futebol Clube (RN)', 'AA Portuguesa (RJ)', 'FC Felgueiras 1932', 'Aparecida Esporte Clube (GO)', 'PEC Zwolle', 'FC Groningen U18', 'NEC Nijmegen U17', 'Fiorentina Primavera', 'Tiburones Rojos de Veracruz', 'AC Sparta Prague', 'FC Bourg-Péronnas', 'CA Osasuna', 'Besiktas JK', 'GAIS Göteborg', 'RC Celta Fortuna', 'Tottenham Hotspur U21', 'Genoa CFC Youth', 'Cruzeiro Esporte Clube U20', 'Peterborough United', 'Al-Faisaly Harmah', 'SS Turris Calcio', 'Holstein Kiel', 'FC United of Manchester', 'SC Heerenveen', 'ASD Sona Calcio', 'Polonia Warsaw', 'CS Marítimo U23 (-2023)', 'AC Cesena', 'Stoke City', 'Napoli Primavera', 'CS Emelec', 'Al-Ahli SFC', 'LOSC Lille U19', 'Club Atlético Lanús', 'ACR Messina', 'Roma Primavera', 'Vitesse Arnhem', 'CA Boca Juniors', 'Red Bull Brasil (SP)', 'Gillingham FC', 'Canoas Sport Club (RS)', 'Associação Portuguesa de Desportos (SP) B', 'SC Braga U17', 'Swindon Town', 'FK Mlada Boleslav', '1.FC Union Berlin U19', 'Perugia Youth', 'Adelaide United', 'Orlando Pirates', 'Metalist Kharkiv (-2016)', 'Paganese Calcio 1926', 'La Hoya Lorca CF', 'Legnano AC', 'Recreativo Águias Musgueira', 'FC Copenhagen', 'Reggina Calcio', 'Universidad San Martín de Porres', 'FC Twente U18', 'UD Almería', 'Tianjin Quanjian', 'Monte Alegre Futebol Clube (SP)', 'CDR Quarteirense', 'Excelsior Rotterdam U19', 'AD Cerro de Reyes (- 2011)', 'Quilmes Atlético Club', 'OGC Nice B', 'Fortuna Sittard U21', 'Tigres UANL', 'CD Tenerife B', 'NK Zagreb', 'VfL Wolfsburg II', 'Santa Cruz Futebol Clube (PE)', 'Pleudihen-sur-Rance', 'FCV Dender EH', 'Bidvest Wits FC', 'LOSC Lille B', 'SS Monopoli 1966', 'APOEL Nicosia', 'CF América', 'Colorno Calcio', 'Junior FC', 'Fluminense Football Club U17', 'SC Sagamihara', 'Willem II Tilburg U19', 'Polisportiva Bucinese', 'Torpedo Moscow', 'FC Annecy', 'SC Bastia B', 'FC Le Mont LS', 'SC Beira-Mar U19', 'Caracas FC', 'CF Belenenses Lissabon U19', 'Denizlispor', 'Athletic Bilbao U19', 'Real Salt Lake City', 'Airbus UK Broughton FC', 'FC Groningen', 'Olympique Lyon', 'SPAL 1907', 'CS Marítimo U23', 'Sparta Rotterdam U21', 'Santarcangelo Calcio', 'US Dro', 'Bourg-en-Bresse Péronnas 01', 'RAEC Mons', 'GVVV Veenendaal', 'Atlético Venezuela', 'Clube Atlético Linense (SP)', 'Bolton Wanderers U23', 'Enppi SC', 'Deportivo Cali', 'Patro Eisden Maasmechelen', 'FC Eindhoven', 'FC Nordsjaelland', 'Borussia Mönchengladbach U17', 'US Città di Pontedera', 'Bodrum FK', 'NEC Nijmegen', 'FC Zürich', 'Milton Keynes Dons', 'Rukh Lviv', 'FC Rieti', 'Grimsby Town', 'Qatar SC', 'ASD Sanluri Calcio', 'Pyramids FC', 'Boluspor', 'TSV Hartberg', 'SC Paderborn 07', 'Sparta Rotterdam U17', 'UD Vilafranquense', 'Everton FC', 'Mpumalanga Black Aces FC', 'VfL Wolfsburg', 'Leeds United U23', 'HSK Zrinjski Mostar', 'Enosis Neon Paralimniou', 'Clermont Foot 63 B', 'Jedinstvo Bijelo Polje', 'Club NXT', 'Celano FC Olimpia', 'Vila Nova Futebol Clube (GO)', 'Zaglebie Lubin II', 'Spezia Primavera', 'CA Rosario Central', 'Los Angeles FC', 'Atlético de Madrid B', 'Cherno More Varna', 'Club Necaxa', 'Udinese Primavera', 'VfL Osnabrück', 'Damash Gilan FC', 'Boston United', 'Inter Milan Primavera', 'FC Vaduz', 'Associação Atlética Ponte Preta', 'Club Atlético Huracán', 'Hapoel Haifa', 'Amora FC', 'El Gouna FC', 'SönderjyskE', 'Terrassa FC', 'Dartford FC', 'Deportivo Alavés B', 'Volos NPS', 'Al-Ahli SC', 'Arminia Bielefeld', 'Hertha BSC', '1. FC Köln', 'Leixões SC U19', 'União Recreativa dos Trabalhadores (MG)', 'Danubio FC', 'Club Cerro Porteño', 'Londrina Esporte Clube (PR)', 'Valenciennes FC', 'CD Cruz Azul', 'FC Lorient B', 'Rangers FC U20', 'FC Viktoria Köln', 'FC Girondins Bordeaux U19', 'Sheffield United U23', 'FC Alverca', 'Atalanta U23', 'SC Freamunde', 'Santos FC B', 'Recreativo do Libolo', 'LD Alajuelense', 'Piacenza Calcio 1919', 'OGC Nizza U19', 'Excelsior Rotterdam U21', 'CS Mioveni', 'Robur Siena', 'Chemnitzer FC', 'Eintracht Frankfurt', 'ASD Chieri Calcio', 'AC Cuneo 1905', 'Arsenal Kyiv', 'AC Milan', 'SAS Epinal', 'Montevideo Wanderers U19', 'AS Nancy-Lorraine', 'Catania FC', 'Heart of Midlothian FC', 'Vancouver Whitecaps FC', 'Burnley FC U23', 'Colchester United', 'Quevilly - Rouen Métropole', 'ND Gorica', 'Lekhwiya Sports Club', 'UD Salamanca (- 2013)', 'Vejle Boldklub', 'Paris FC', 'Monterosi Tuscia FC', 'FC Dordrecht', 'Coventry City', 'CD Leganés', 'Union Saint-Gilloise', 'KV Kortrijk', 'FC Vaslui', 'AC Savoia 1908', 'Pau FC', 'AS Saint-Étienne B', 'Akwa United', 'Unisport de Bafang', 'RSC Charleroi', 'SL Benfica U23', 'Modena FC', 'Al-Nassr FC', 'Borussia Mönchengladbach II', 'Fujieda MYFC', 'Al-Batin FC', 'Juazeiro Empreendimentos (CE)', 'FC Schalke 04', 'Sassuolo Primavera', 'Huddersfield Town', 'Fortuna Düsseldorf U19', 'Real Sociedad', 'Sevilla Atlético', 'Clube de Regatas do Flamengo', 'Akhisar Belediyespor', 'CA Boston River', 'PSV Eindhoven', 'Olympique Khouribga', 'Clube de Desportos do Maxaquene', 'Viborg FF', 'FC Oss', 'SpVgg Unterhaching', 'FC Vado', 'AS Monaco B', 'Millonarios FC', 'Umm Salal SC', 'Gsd Nuova Tor Tre Teste', 'FC Andorra', 'Canon Yaoundé', 'RasenBallsport Leipzig U17', 'Samsunspor', 'Stade Brest 29 B', 'BK Milan FC', 'Middlesbrough FC', 'Debreceni VSC', 'Ibrachina FC U20', 'Tottenham Hotspur U18', 'AS Bari', 'Sheffield United', 'BK Häcken', 'SV Lippstadt 08', 'Levski Sofia', 'Metalurg Donetsk (-2015)', 'US Lecce', 'Disqualification', 'Aarhus GF', 'Atlético de San Luis', 'Louletano DC', 'ASD Nocera Umbra', 'SK Slavia Prague', 'SV Waldhof Mannheim', 'Deportivo Alavés', 'Tours FC', 'Concordia Chiajna', 'ASD Villafranca Veronese', 'Club Nacional Asunción', 'FC Valenciennes U19', 'Albirex Niigata', 'SV Darmstadt 98', 'Asociación Atlética Argentinos Juniors U20', 'SV Kapfenberg', 'Nottingham Forest', 'Al-Ittihad Club', 'Guangzhou R&F', 'Rodez AF', 'CD Plaza Amador', 'Aris Thessaloniki', 'Dulwich Hamlet', 'MTK Budapest', 'Paris Saint-Germain', 'FC Nantes', 'Betis Deportivo Balompié', 'Akhmat Grozny', 'Sacilese Calcio', 'ASD Manfredonia Calcio', 'Rapid Vienna', 'FC Nantes U19', 'Pinerolo FC', 'Grêmio Novorizontino', 'SV Grödig', 'Club Atlético All Boys', 'FC Schalke 04 II', 'FC Tokyo', 'VfL Wolfsburg U19', 'AFC Wimbledon', 'FC Famalicão', 'Victorian Institute of Sport', 'Porto Torres', 'SL Benfica B', 'FC Sion', 'AC Isola Liri', 'Cassino Calcio 1924', 'Esporte Clube Ipitanga (BA)', 'Once Caldas', 'FC Astana', 'Newcastle United U23', 'FC Vizela U23', 'Newcastle United U18', 'Folkestone Invicta FC', 'AC Sambonifacese', 'Unión San Felipe', 'Diambars Football Club', 'Excelsior Rotterdam U17', 'MKE Ankaragücü', 'sc Heerenveen U17', 'Arsenal FC U18', 'FC Groningen/Cambuur U21', 'Real Valladolid CF', 'Zenit St. Petersburg', 'Omiya Ardija', 'Internacional de Lages', 'Barakaldo CF', 'FK Radnik Bijeljina', 'Arzanese Calcio', 'Rende Calcio 1968', 'A.C. Garda', 'San Antonio Scorpions FC', 'Sydney FC', 'Lobi Stars FC', 'Caldas SC', 'Sunderland AFC U21', 'SuperSport United', 'Atromitos Athen', 'USD Novese', 'Al-Shabab Al-Arabi Club', 'Sanliurfaspor', 'Arsenal FC Reserves', 'Ranheim IL', 'Enugu Rangers IFC', 'Fortuna Düsseldorf II', 'FC Dallas', 'AC Le Havre', 'Reading FC', 'San Francisco FC', 'La Vitréenne FC', 'Blackburn Rovers Reserves', 'Roda JC Kerkrade U21', 'Consadole Sapporo', 'FC Twente Enschede U19', 'AE Pafos', 'PSV Eindhoven U21', 'FK Borac Banja Luka', '1.FC Slovacko', 'Luton Town', 'CA Peñarol', 'Hannover 96 II', 'B SAD', 'Espanyol Barcelona U19', 'Shijiazhuang Ever Bright', 'Varese 1910', 'AS Andria BAT', 'Yokohama F. Marinos', 'Thonon Évian Savoie FC', 'Ermis Aradippou', 'Lech Poznan', 'FC Noah Yerevan', 'Sepahan FC', 'Bayern Munich', 'FC Porto B', 'Mamelodi Sundowns FC', 'Esporte Clube Juventude U20', 'Juventus U23', 'AFC Bournemouth U21', 'Lion City Sailors', 'RCD Mallorca B', 'Real Murcia CF', 'Racing Club de Montevideo', 'Kardemir Karabükspor', 'ETO FC Győr', 'SC Spezia', 'Guangzhou Evergrande', 'FK Spartak Subotica', 'Genoa U19', 'Energetik-BGU Minsk', 'Real Betis B', 'CS Scandicci 1908', 'KSV Roeselare (- 2021)', 'SV Ried', 'Forjães Sport Club', 'Tractor Sazi FC', 'GD Velense', 'Aston Villa', 'Rayo Vallecano', \"Johor Darul Ta'zim\", 'CA Fénix', 'KVC Westerlo', 'Mount Pleasant FA', 'Osmanlispor FK', 'Clube Atlético Votuporanguense (SP)', 'AC Marinhense', 'Darlington FC (- 2012)', 'Ajax Amsterdam U19', 'Dundalk FC', 'FK Rad', 'CD Nacional', 'Foligno Calcio', 'SC Bastia U19', 'Torino Primavera', 'Stockport County', 'ASD DAK', 'Atlético Malagueño', 'Sertanense FC', 'Liverpool FC U23', 'Ankara Keciörengücü', 'Hull City', 'PEC Zwolle U21', 'ADO Den Haag', 'Al-Mesaimeer Sports Club', 'Renaissance de Ngoumou', 'Universitario de Deportes', 'ESTAC Troyes B', 'Rio Ave FC U19', 'NK Inter Zapresic', 'Virtus Entella', 'Club Africain Tunis', 'Clube Condeixa', 'Vitesse Arnheim U17', 'Sport Club São Paulo (RS)', 'Club de Regatas Vasco da Gama', 'FK Sarajevo', 'AZ Alkmaar U21', 'CD Nacional U19', 'RSC Anderlecht', 'Lillestrøm SK', 'Vitória Guimarães SC U19', 'Atletico River Plate Montevideo', 'Chongqing Dangdai Lifan', 'ACD Sangiustese', 'Sheffield United U21', 'Al-Hilal Riyadh', 'Shakhtar Donetsk II', 'Diósgyőri VTK', 'Brown de Adrogue', 'NK Istra 1961 U19', 'Club Atlético Vélez Sarsfield', 'Sunderland AFC U23', 'Burgos CF', 'Waasland-Beveren', 'Antalyaspor', 'Gubbio Berretti', 'Treviso Juniores', \"L'Aquila Calcio\", 'Petrojet', 'Club Atlético Boca Juniors', 'Envigado FC', 'FK Radnicki Nis', 'Club General Díaz de Luque', 'Nîmes Olympique B', 'Göztepe', 'Arsenal FC U23', 'Casa Pia AC U19', 'Esporte Clube Tigres do Brasil (RJ)', 'DNŠ Zavrč', 'LR Vicenza Virtus', 'Deportes Cobreloa', 'FC Sochaux-Montbéliard', 'SSV Jahn Regensburg', 'Zawisza Bydgoszcz', 'Szeged-Csanád - GA', 'SC Lourel', 'CD América de Cali', 'Clube Atlético Paranaense B', 'Central Coast Mariners U21', 'Northampton Town', \"Stella Club d'Adjamé\", 'US Latina Calcio', 'FK Dinamo', 'Southampton FC U21', 'AC Formigine', 'Athlétic Club Arlésien B', 'FC Saburtalo', 'Manchester United U21', 'Al-Hilal SFC', 'Trélissac FC', 'Varzim SC', 'Monarcas Morelia', 'FK Rudar Prijedor', 'US Poggibonsi', 'Ayamonte CF', 'FK Napredak Krusevac', 'Al-Nasr (Dubai)', 'Portland Timbers', 'Athlétic Club Arlésien', '1.FC Union Berlin', 'Club Cienciano', 'Stafford Rangers', 'Cesena Primavera', 'ASD Due Torri', 'Elazigspor', 'Zhejiang FC', 'Esporte Clube Itaúna (MG)', 'Sport Club Corinthians Paulista', 'GD Estoril Praia', 'Karpaty Lviv (-2021)', 'Raja Club Athletic', 'Zamora FC', 'Beijing Guoan', 'Salernitana Calcio 1919', 'VfB Stuttgart U19', 'KSV Hessen Kassel', 'Lokomotiv Moscow', 'AS Casale Calcio', 'FK Radnik Surdulica', 'Bryne FK', 'US Foggia', 'FC Winterthur', 'CA San Lorenzo de Almagro', 'Toulon Le Las', 'FSV Frankfurt', 'Criciúma Esporte Clube', 'NA Hussein Dey', 'Newcastle United Reserves', 'FC Seoul', 'AS Denguélé d’Odienné', 'Sporting Kansas City', 'SV Werder Bremen II', 'Newcastle United', 'Racing Ferrol', 'Lupa Piacenza', 'RCD Espanyol B', 'FC Viktoria Plzen', 'FC Chibuto', 'SC Beira-Mar', 'AC Montichiari', 'Al-Khor SC', '1.FC Nuremberg II', 'AS Bamako', 'Cultural Leonesa', 'OFK Beograd', 'ASD HinterReggio Calcio', 'CCD Santa Eulália Vizela', 'CSKA-Sofia', 'Cruzeiro Esporte Clube', 'Paganese Berretti', 'Juventud de Las Piedras', 'Persepolis FC', 'Pierantonio Sport', 'Leicester City', 'SC União Torreense', 'York City', 'Delfino Pescara 1936', 'AC Ajaccio', 'Rangers de Talca', 'Polissya Zhytomyr', 'Dinamo Minsk', 'Dundee United FC', 'SL Benfica U19', 'Club Atlético Colón', 'SV Babelsberg 03', 'SD Ponferradina', 'Mortágua FC', 'Inter Miami CF', 'Olympique Marseille', 'Tianjin Jinmen Tiger', 'Atlético Clube Goianiense', 'Sampdoria Primavera', 'UC Sampdoria', 'Spartak 2 Moscow', 'Sandnes Ulf', 'Terek Grozny', 'Steaua Bukarest', 'Huachipato FC', 'Chukyo High School', 'Piacenza FC', 'Riga FC', 'Strømsgodset IF', 'Southampton FC U18', 'MVV Maastricht', 'Santos Laguna', 'Kawkab Marrakech', 'Defensor Sporting Club', 'Club Deportivo Maldonado', 'NK Zadar', 'Guanabara City Futebol Clube', '1.FC Kaiserslautern U19', 'Cork City FC', 'Botafogo Rio de Janeiro U17', 'US Palermo', 'Servette FC', 'Montpellier HSC', 'AC Arezzo', 'SF Aversa Normanna', 'Foggia Calcio', 'Ismaily SC', 'Calcio Portogruaro-Summaga', 'Racing Club de France football', 'Shanghai SIPG', 'NK Interblock Ljubljana', 'Steve Biko FC', 'CS Marítimo B', 'AS Martina Franca', 'CD Santa Clara Sub-23', 'Fredrikstad FK', 'Villarreal CF', 'Palermo Juniores', 'VfB Stuttgart II', 'Stade Reims U19', 'Liverpool FC', 'FC Arouca U19', 'Barnsley FC', 'AS Dakar Sacré-Cœur', 'Sint-Truidense VV', 'Heart of Lions Kpando', 'AS Béziers', 'Vis Pesaro dal 1898', 'Al-Wahda FC Abu Dhabi', 'Kashiwa Reysol', 'AS Saint-Étienne U19', 'Potenza Sport Club', 'Portimonense SC', 'Cjarlins Muzane', 'San Fernando CD', 'Wuhan Zall', 'Amiens SC', 'Hannover 96', 'FK Krasnodar', 'Philadelphia Union', 'CD Vitoria', 'Hertha BSC II', 'Chorrillo FC', 'Athletic Bilbao', 'Dynamo Moscow', 'CD Cinfaes', 'AR São Martinho', 'Atlético SC Reguengos', 'Gandzasar Kapan', 'Chesterfield FC', 'RC La Flèche', 'Port Vale FC', 'San Jose Earthquakes', 'AC Bellaria Igea Marina', 'Östersunds FK', 'Atalanta Primavera', 'CD Tenerife', 'Eskisehirspor', 'Dunaújváros PASE', 'Ural Yekaterinburg', 'SP Tre Fiori', 'Génération Foot', 'AC Ajaccio U19', 'Futebol Clube Santa Cruz (RS)', 'Scafatese Calcio 1922', '1.FC Nürnberg U19', 'Belenenses SAD', 'CS Marítimo', 'Guizhou Hengfeng Zhicheng', 'Ipatinga Futebol Clube (MG)', 'AIK', 'Milan Primavera', 'AS Nancy-Lorraine U19', 'Ho Chi Minh City FC', 'Vitesse U18', 'FC Energie Cottbus', 'União São João Esporte Clube (SP)', 'Genoa Primavera', 'Yverdon Sport FC', 'Hatta Club', 'FC Lienden', 'FCSB II', 'Club Sportivo San Lorenzo', 'Monagas SC', 'AD São Caetano (SP)', 'Dundee FC', 'Hull City U23', 'Racing Strasbourg B', 'Aberdeen FC', 'Sport Club Internacional', 'Llaneros de Guanare EF', 'Sandefjord Fotball', 'SSD Palermo', 'FC Emmen U19', 'Neuchâtel Xamax FCS Youth', 'SpVgg Greuther Fürth II', 'CF Estrela Amadora SAD', 'ACF Fiorentina', 'Alcione Milano', 'CA 3 de Febrero', 'Moghreb Tétouan', 'Crawley Town', 'Manchester United Reserves', 'Ha Noi FC', 'The Strongest La Paz', 'SC Freiburg', 'ACD Campodarsego', 'FK Radnicki 1923 Kragujevac', 'FC Brüssel', 'Independiente del Valle', 'CF Os Belenenses', 'Everton FC U21', 'Vitesse Arnhem U19', 'CF Oliveira Douro', 'LASK', 'Bologna Primavera', 'Clube Náutico Capibaribe', 'Ciliverghe Calcio', 'FC Dordrecht U21', 'Twente Enschede FC', 'Lornano Badesse Calcio', 'Club León FC', 'Tromsø IL', 'Burgess Hill Town', 'Stoke City U21', 'CS Sedan-Ardennes', 'Rio Preto Esporte Clube (SP)', 'Bassano Virtus 55 ST', 'Újpest FC', 'Cádiz CF', 'Bologna FC 1909', 'Hammarby IF', 'Rotherham United', 'ASD Lanusei Calcio', 'CD Leganés B', 'USV Elinkwijk', 'Júbilo Iwata', 'Kuban Krasnodar (-2018)', 'Fulham FC Reserves', 'FC Villefranche-Beaujolais', 'SV Zulte Waregem', 'Cuiabá Esporte Clube (MT)', 'FC Emmen', 'Castelsardo Calcio', 'Southampton FC U23', 'CD La Equidad Seguros SA', 'Charlton Athletic', 'Club Estudiantes de La Plata', 'Dalian Aerbin', 'CD Olimpia', 'CF Atlante', 'OFI Crete FC', 'Borgosesia Calcio', 'Villemomble Sports', 'Chievo Verona', 'AC Mantova 1911', 'Al-Taawoun FC', 'Suwon FC', 'AC Pisa 1909', 'FC Girondins Bordeaux B', 'SB Castelo Branco', 'Cape Town City FC', 'Valenzana Mado SSD', 'Willem II Tilburg U21', 'Shooting Stars Sports Club', 'Atlético CP', 'Vigor Lamezia Youth', 'FC Liefering', 'VF Colligiana', 'Kickers Offenbach', 'CF Pachuca', 'SS Virtus Lanciano', 'Doxa Katokopias', 'Melbourne Heart FC', 'ASD Akragas 2018', 'CA Rentistas', 'Cracovia', 'FC Sheriff Tiraspol', 'Clube Atlético Mineiro', 'FC Utrecht', 'Southampton FC', 'Hibernian FC', 'FC Rapid Bucharest', 'Selargius Calcio', 'Aliados FC Lordelo', 'CF Estrela Amadora U23', 'Brocton FC', 'SC Freiburg II', 'USC Paredes', 'SSD Piacenza Calcio 1919', 'NK Hrvatski Dragovoljac', 'Sorrento Calcio', 'Sagan Tosu', 'Galatasaray', 'Granada CF', 'West Bromwich Albion Reserves', 'Zamora CF', 'Stoke City U18', 'KRC Genk U18', 'Eintracht Frankfurt U19', 'Royal Excel Mouscron', 'Zorya Lugansk', 'Chelsea FC Reserves', 'Changchun Yatai', 'Esteghlal FC', 'Esporte Clube Juventude', 'Al-Shabab Riyadh', 'Club Olimpo', 'NEC Nijmegen U21', 'Esporte Clube Santo André (SP)', 'Sportivo Luqueño', 'Cianorte Futebol Clube (PR)', 'SC Farense', 'Gornik Leczna', 'Fagiano Okayama', 'Hannover 96 U19', 'AD Sanjoanense', 'CD El Nacional', 'Fortuna Sittard', 'Shanghai Shenhua', 'FC Ashdod', 'Deportivo Táchira', 'Manchester United U18', 'JMG Academy Abidjan', 'ABC Futebol Clube (RN)', 'RC Lens B', 'SK Sigma Olomouc', 'Aston Villa Reserves', 'Querétaro FC', 'Wigan Athletic U18', 'Brentford FC', 'Hellerup IK', 'Suwon Samsung Bluewings', 'Wrexham AFC', 'AJ Auxerre B', 'Thanh Hoa FC', 'GSD Ambrosiana', 'FC Kuusysi', 'Borussia Dortmund U19', 'FC Metz B', 'Rakow Czestochowa', '1.FC Nuremberg', 'Tianjin Teda', 'Melbourne City FC', 'ASD Rondinella Marzocco', 'Real Madrid Castilla', 'Digenis Akritas Morfou', 'AS Saint-Étienne', 'Eintracht Frankfurt II', 'Standard Liège U19', 'Almere City FC U23', 'CA Tiro Federal', 'Brighton & Hove Albion U23', 'AS Gubbio 1910', 'Portimonense SC U19', 'AC Monza Brianza', 'Feyenoord U21', 'Beitar Jerusalem', 'Cosenza Calcio', 'VfR Aalen', 'AJ Auxerre', 'Career break', 'Crewe Alexandra', 'Chicago Fire FC', 'Qormi FC', 'West Ham United', 'Norwich City U21', 'San Francisco Deltas', 'Albacete Balompié', 'Waterford United', 'Ravenna Calcio', 'SC Valenciano', 'LB Châteauroux B', 'FC Blau-Weiss Linz', 'Southampton FC B', 'Defensa y Justicia', 'Stabæk Fotball', 'Bradford City', 'KSC Lokeren (- 2020)', 'SPAL 2013', 'Seattle Sounders FC', 'Stoke City U23', 'Manchester City U18', 'Leça FC', 'Mosta FC', 'Swansea City U21', 'Le Puy Foot 43 Auvergne', 'AD Pontassolense', 'Centro Sportivo Paraibano (PB)', 'Al-Wakrah SC', 'Ternana Unicusano Calcio', 'Parma Calcio 1913', 'Eintracht Frankfurt U17', 'Assyriska FF', 'Boavista FC Y19', 'Salgueiro Atlético Clube (PE)', 'MSV Duisburg', 'Jiangsu Suning', 'Ajman Club', 'Daejeon Citizen', 'GD Lagoa', 'Rimini FC', 'Vicenza Primavera', 'AS Trencin', 'CA Talleres', 'Angra dos Reis Esporte Clube (RJ)', 'Diables Noirs Brazzaville', 'Clube de Regatas Brasil (AL)', 'Aston Villa U21', 'FC Sambiase Calcio', 'Empoli FC', \"Club Atlético Newell's Old Boys\", 'Al-Ain FC', 'Piast Gliwice', 'Jönköpings Södra IF', 'HNK Hajduk Split', 'LB Châteauroux', 'San Donato - Tavarnelle', 'ASD Acireale Calcio', 'Houston Dynamo FC', 'Altinordu FK', 'RSC Anderlecht U21', 'Club Atlético Talleres', 'OGC Nice', 'Parma FC Youth', 'AD Limianos', 'SC Farense U23', 'Fiorentina Under 17', 'Unione Sportiva Siracusa', 'Manchester City U21', 'CD Mirandés', 'FC Paços de Ferreira B', 'FK Zalgiris Vilnius', 'Associação Atlética Portuguesa (SP)', 'Friburguense Atlético Clube (RJ)', 'HB Köge', 'Mjällby AIF', 'Damac FC', 'UD Almería B', 'FUS Rabat', 'Politehnica Timisoara', 'Amiens SC B', 'AO Platanias', 'CA Vélez Sarsfield', 'Gil Vicente FC Y19', 'Casa Pia AC U17', \"Valle d'Aosta Calcio\", 'Novara Calcio 1908', 'Shimizu S-Pulse', 'FC Vizela Youth 19', 'Malmö FF', 'FC Erzgebirge Aue', 'Esporte Clube Novo Hamburgo (RS)', 'Etoile Sportive du Sahel', 'CD Ñublense', 'Colorado Atletico Clube (PR)', 'PAS Giannina', 'Meizhou Hakka', 'Al-Ettifaq', 'SSD Città di Campobasso', 'Shatin', 'Bayer 04 Leverkusen U17', 'ATK', 'FC Sochaux-Montbéliard U19', 'SS Sambenedettese', 'Correggese Calcio 1948', 'Dibba Al-Hisn', 'ASD Liberty Monopoli', 'Yokohama FC', 'Arminia Bielefeld U19', 'Fenerbahce SK', 'América Futebol Clube (MG)', 'Derby County', 'Sarpsborg 08 FF', 'Club Nacional', 'Red Bull Bragantino', 'Esporte Clube Noroeste (SP)', 'Blackburn Rovers', 'NK Maribor', 'Bohemians 1905', 'FC Internazionale', 'Chievo Primavera', 'FC Tirsense', 'FBC Casale', 'CS Herediano', 'Clube Esportivo Aimoré (RS)', 'FK Tönsberg', 'Club 12 de Octubre de Itauguá', 'Club Deportivo Godoy Cruz Antonio Tomba', 'SC Kriens', 'Paysandu SC', 'SC Braga', 'Indios de Ciudad Juárez', 'AS Melfi', 'Abha Club', 'Al-Ittihad Jeddah', 'Akademisk Boldklub', 'FC Pari Nizhniy Novgorod', 'ASEC Mimosas', 'ESTAC Troyes', 'NK Kustosija Zagreb', 'US Boulogne B', 'AS Avellino 1912', 'Orlando City SC', 'SC Heerenveen U19', 'Real SC', 'Thermal Abano Teolo', 'Royale Union Saint Gilloise', 'FK Suduva Marijampole', 'Halmstads BK', 'Dinamo Batumi', 'SM Caen B', 'Grenoble Foot 38', 'Deportivo Alavés U19', 'Pohang Steelers', 'Abano Calcio', 'Málaga CF', 'Club de Gimnasia y Esgrima La Plata', 'Qadsia SC', 'Alghero 1945', 'EA Guingamp B', 'Hamilton Academical FC', \"Sant'Omero Palmense\", 'US Palermo Youth', 'Dalian Yifang', 'HNK Rijeka', 'Hatayspor', 'SSC Bari', 'FC Thun', 'Sporting de Gijón B', 'El Ahly Cairo', 'San Marino', 'GD Chaves Satelite', 'Rio Ave FC', 'SK Tavriya Simferopol', 'FC Villarreal Youth', 'FC Augsburg U17', 'Djurgardens IF', 'Solbiatese Arno Calcio', 'Académico Viseu FC', 'Foolad FC', 'FC Südtirol', 'Getafe CF U19', 'Racing de Santander B', 'Al-Ahli Dubai Club', 'Crociati Noceto', 'NK Domzale U19', 'West Bromwich Albion U23', 'Sporting CP U19', 'Getafe CF', 'Vålerenga Fotball Elite', 'Coritiba Foot Ball Club', 'Estoril Praia U23', 'Manisaspor', 'Grêmio Esportivo Anápolis (GO)', 'AA Aparecidense (GO)', 'Olympique de Marseille B', 'Aurora Seriate', 'Club Brugge KV', 'Grêmio Barueri Futebol Ltda.', 'Seongnam FC', 'Lecce Primavera', 'Stevenage FC', 'Juventus Primavera', 'BSC Young Boys', 'NEC Nijmegen U18', 'Liverpool FC Reserves', 'Xerez CD', 'SV Darmstadt 98 U19', 'ASD Valtarese Calcio', 'Botafogo Sport Club (BA)', 'Gamba Osaka', 'Melbourne Victory', 'Torino FC', 'Seraing United', 'Austria Vienna', 'Liverpool FC U18', 'Burnley FC U18', 'Pomezia Calcio', 'Casarano Calcio', 'AZ Alkmaar U18', 'Atlético de Madrid', 'Hapoel Tel Aviv', 'Royal Cappellen FC', 'São Bernardo Futebol Clube (SP)', 'Crystal Palace U23', 'Juventus FC', 'SD Aucas U20', 'Burnley FC U21', 'NK Triglav Kranj', 'Kalmar FF', 'SC Olhanense U19', 'PFC Simurq', 'FC Cartagena', '1.FSV Mainz 05 U19', 'Falkirk FC', 'CSKA Sofia', 'De Graafschap Doetinchem U19', 'RasenBallsport Leipzig II', 'FC Utrecht U21', 'AD Lousada', 'Exeter City', 'Gimnàstic de Tarragona', 'Racing Santander', 'Swansea City U23', 'Quevilly Rouen Métropole', 'FK Partizan Belgrade', 'Hamburger SV U19', 'Liberty Professionals FC', 'FC Pune City', 'Willem II/RKC U19', 'Dijon FCO', 'Cagliari Youth', 'AS Cittadella', 'Chelsea FC U21', 'SC Paderborn 07 U19', 'AS Calcio Figline', 'Empoli Primavera', 'Morrinhos Futebol Clube (GO)', 'Mineros de Guayana', 'CA Osasuna Promesas', 'Wolverhampton Wanderers U21', 'USD Sestri Levante 1919', 'FC Botosani', 'SKN St. Pölten', 'Djurgårdens IF', 'Ipswich Town', 'Cortuluá', 'Valenciennes FC B', 'Khor Fakkan', 'Vallicisa 2000 Gs Succisa', 'Grêmio Foot-Ball Porto Alegrense B', 'CD Chivas USA', 'Ulsan Hyundai', 'Club Rápido de Bouzas', 'AD Camacha', 'TuS Koblenz', 'Chelsea FC U18', 'Royal Pari Fútbol Club', 'West Bromwich Albion', 'FC Barcelona B', 'Bolton Wanderers U18', 'Cruzeiro EC U20', 'Vitesse/AGOVV U19', 'FC Pampilhosa', 'FC Aprilia', 'Watford FC', 'AC Nardò', 'SS Villacidrese', 'Rosenborg BK', 'KAA Gent', 'Pavia Juniores', 'Bayer 04 Leverkusen', 'Salerno Calcio', 'Istanbul Basaksehir FK', 'Trabzonspor', 'Everton FC Reserves', 'Wuppertaler SV Borussia', 'Getafe CF B', 'Vannes OC', 'Chernomorets 1919 Burgas', 'Hebei China Fortune', 'ASD Morolo Calcio', 'SSD US Ancona', 'ESTAC Troyes U19', 'AD Oliveirense', 'FBC Saronno 1910', 'Red Star FC', 'Istanbulspor', 'Potenza Calcio', 'Real Betis Balompié', 'Derby Académie', 'Gateway FC Abeokuta', 'Deportivo Toluca', 'US Orléans', 'SV Werder Bremen', 'SC Vianense', 'Clermont Foot 63', 'Recreativo Huelva', 'Grasshopper Club Zürich U21', 'Angers SCO B', 'Salernitana Primavera', 'KRC Genk', 'RBC Roosendaal', 'AC Pisa Berretti', 'Valle Grecanica', 'FC Lorient', 'UCAM Murcia CF', 'Rio Ave FC U23', 'FC Volendam U21', 'Club Universidad de Chile', 'Esbjerg fB', 'Tacuary Football Club', 'SSC Napoli', 'FC U Craiova 1948', 'Colorado Rapids', 'Zamalek SC', 'Villarreal CF B', 'Panetolikos GFS', 'Polisportiva Firenze Ovest', 'Treze Futebol Clube (PB)', 'Chicago Fire', 'Fluminense Football Club', 'Rot-Weiss Essen', 'RasenBallsport Leipzig U19', 'AD Alcorcón', 'Francs Borains', 'Lincoln City', 'AEK Larnaca', 'Gazisehir Gaziantep FK', 'SSD Chieti Calcio', 'UNAM Pumas', 'Atletico Roma', 'Panathinaikos FC', 'Atletico Arezzo', 'Brentford FC B', 'Plymouth Argyle', 'FC Fondi 1922', 'Figueirense Futebol Clube', 'Casa Pia AC', 'FK Jagodina', 'Inter Milan', 'Kabuscorp SC do Palanca', '1.FC Kaiserslautern', 'Sporting Club Accra', 'Algarve United Futebol', 'Newcastle United U21', 'Margate FC', 'Täby FK', 'Asociación Deportivo Pasto', 'US Concarneau', 'Instituto AC Córdoba', 'Horoya AC', 'Portsmouth FC', 'AS Pizzighettone', 'FC São Paulo B', 'Atlético Paranaense', 'Santos FC', 'FC Metz U19', 'RKC Waalwijk U19', 'Esperance Tunis', 'Académica Coimbra B', 'Dagenham & Redbridge FC', 'SC Braga U19', 'Randers FC', 'Luverdense Esporte Clube (MT)', 'Nagoya Grampus', 'Club Alianza Lima', 'Bogotá FC', 'Slask Wroclaw', 'Liga Muçulmana de Maputo', 'Benevento Calcio', 'Balikesirspor', 'Atlético Ceuta', 'Hamburger SV U17', 'Columbus Crew SC', 'US Castelnuovo Garfagnana', 'Al-Markhiya SC', 'FC Locomotive Tbilisi', 'Clube Atlético Guaçuano (SP)', 'SV Spakenburg', 'Bröndby IF', 'Al-Ain', 'Portimonense SC U23', 'Kyoto Sanga', 'FC Toulouse', 'FC Inter Turku', 'GE Anápolis', 'Panthrakikos Komotini', 'FC Reading U21', 'Barton Rovers', 'CD San Marcos de Arica', 'FK Khimki', 'SC Espinho', 'Sport Club Corinthians Alagoano', 'FC Canavese', 'FC Honka II', 'Tapajós Futebol Clube (PA)', 'Nîmes Olympique', 'Salitas Football School', 'Galway United FC', 'FC Ponsacco 1920', 'SD Lemona (- 2012)', 'Roma U19', 'Bucheon FC 1995', 'Calcio Del Duca Ribelle', 'FC St. Gallen 1879', 'CD Guadalajara', 'US Grosseto FC', 'RC Lens', 'Olympique Lyon B', 'SD Ejea', 'ASDC Gozzano', 'Pisa Sporting Club', 'FK TSC Backa Topola', 'Feyenoord U19', 'Tampa Bay Rowdies', 'XV de Piracicaba', 'Sporting Gijón', 'SER Caxias do Sul (RS)', 'Les Herbiers VF', 'Recreativo Granada', 'AC Ajaccio B', 'NK Osijek', '1.FC Köln', 'Club Real Santa Cruz', 'NK Olimpija Ljubljana', 'AS Monaco U21', 'Konyaspor', 'FC Arouca', 'Ludogorets Razgrad', 'UC AlbinoLeffe', 'Gallipoli Calcio', 'Birmingham City', 'Deportivo Saprissa', 'AS Viterbese Castrense', 'Hamburger SV', 'FK Liepaja', 'Eyüpspor', 'AC Giacomense', 'SC Salgueiros', 'FC Vizela', 'Frenaros FC', 'Étoile Filante Ouagadougou', 'Västerås SK', 'Mogren Budva', 'Cork City FC (- 2009)', 'Joinville Esporte Clube (SC)', 'Elche Ilicitano', 'Karlsruher SC', 'Bari Primavera', 'FC Porto U17', 'AD Fafe', 'Zhemchuzhina Sochi', 'Botafogo de Futebol e Regatas', 'Bolívar La Paz', 'SC Mirandela', 'Club Tijuana', 'Imperial Academy', 'Lazio U19', 'US Créteil-Lusitanos', 'Esporte Clube Cruzeiro (RS)', 'Ternana Calcio', 'Wycombe Wanderers', 'Independiente FBC', 'Shakhtar Donetsk', 'Leamington FC', 'FC Snagov', 'Kaizer Chiefs', 'Zira FC', 'Varbergs BoIS', 'Sliema Wanderers', 'Al-Duhail SC', 'Sparta Rotterdam', 'Avispa Fukuoka', 'CA River Plate', 'SpVgg Greuther Fürth', 'FC Koper', 'Burnley FC', 'GNK Dinamo Zagreb II', 'Club Libertad Asunción', 'Associação Atlética Iguaçu (PR)', 'Molde FK', 'SpVgg Neckarelz', 'Al-Shabab FC', 'Vitesse Arnhem U21', 'Wolfsberger AC', 'UD Oliveirense', 'Guangzhou Evergrande Taobao', 'AEL Limassol', 'Turun Palloseura', 'Olympiacos Piraeus', 'Valmiera FC', 'FC Famalicão Y19', 'TSV 1860 Munich', 'Moreirense FC', 'Trapani Calcio', 'Rio Branco Sport Club (PR)', 'Preston North End', 'Dnipro Dnipropetrovsk', 'Levante UD B', 'OFK Grbalj U19', 'Sivasspor', 'Boavista Porto FC U23', 'FC Carl Zeiss Jena', 'CD Feirense U19', 'Sport Club Internacional B', 'UD Fuengirola', 'Hapoel Jerusalem', 'CD Godoy Cruz Antonio Tomba', 'Hednesford Town', 'AC Oulu', 'DAC Dunajska Streda', 'US Cremonese', 'FC Midtjylland', 'Widzew Lodz', 'Al-Rayyan SC', 'Tottenham Hotspur Reserves', 'Vigor Lamezia Calcio', 'FC Twente Enschede U21', 'CD Feirense', 'Académica Coimbra U19', 'Mersin Idmanyurdu', 'Fidelis Andria', 'Uberaba Sport Club (MG)', 'VVV-Venlo U19', 'SCO Angers B', 'Crystal Palace U21', 'Galatasaray A.S.', 'Atlanta United FC', 'Guangdong Sunray Cave', 'Carpi FC 1909', 'Clube Esportivo de Bento Gonçalves (RS)', 'FC Zwolle', 'FC Groningen U17', 'Stade Lavallois', 'Olbia Calcio 1905', 'Associação Maga Esporte Clube (SC)', 'União Leiria U19', 'New York Red Bulls', 'Moto Club de São Luís (MA)', 'FC Hradec Kralove', 'Ruch Chorzow', 'Hapoel Beer Sheva', 'CD Puertollano (- 2015)', 'Würzburger Kickers', 'Dynamo Kyiv', 'ADO Den Haag U19', 'TOP Oss', 'HJK Helsinki', 'Bristol Rovers', 'GD Chaves', 'Pelita Jaya Karawang', 'Parma Primavera', 'Lokomotiv Sofia', 'JD Carregosense', 'FC Metz', 'Vålerenga Fotball', 'Stade Rennais FC B', 'Fleetwood Town', 'Manchester United U23', 'Clube Oriental Lissabon', 'Petrolul Ploiesti', 'Liverpool FC U21', 'Le Mans FC', 'Gil Vicente U23', 'Hércules CF B', 'Borussia Dortmund', 'Jeonbuk Hyundai Motors', 'SC Ligorna 1922', 'Esporte Clube Passo Fundo (RS)', 'Asteras Tripolis', 'Paris Saint-Germain U19', 'Queens Park Rangers U23', 'Minnesota United FC', 'West Ham United U21', 'GIF Sundsvall', 'RKC Waalwijk', 'AC Mantova', 'SS Arezzo', 'CD Mafra', 'Bayer 04 Leverkusen II', 'FC Évian Thonon Gaillard', 'US Avranches', \"Tala'ea El Gaish\", 'AC Lumezzane', 'AC Renate', 'Tottenham Hotspur', 'Standard Liège', 'West Ham United U23', 'RCD Espanyol Barcelona', 'sc Heerenveen/Emmen II', 'Derry City', 'FK Teplice', 'SC Cambuur-Leeuwarden', 'Brighton & Hove Albion U21', 'Como 1907', 'NK Lokomotiva Zagreb', 'Al-Sadd SC'}]\n",
      "0\n",
      "0\n"
     ]
    }
   ],
   "source": [
    "connected_components = list(nx.weakly_connected_components(G))\n",
    "node_connectivity = nx.node_connectivity(G)\n",
    "edge_connectivity = nx.edge_connectivity(G)\n",
    "\n",
    "print(connected_components)\n",
    "print(node_connectivity)\n",
    "print(edge_connectivity)"
   ]
  },
  {
   "cell_type": "markdown",
   "metadata": {},
   "source": [
    "MODULARITÀ (Comunità)\n",
    "\n",
    "! Errore: grado diretto non idoneo"
   ]
  },
  {
   "cell_type": "code",
   "execution_count": 9,
   "metadata": {},
   "outputs": [
    {
     "name": "stdout",
     "output_type": "stream",
     "text": [
      "['Udinese Calcio', 'SL Benfica', 'Genoa CFC', 'AS Roma', 'ACF Fiorentina', 'Sporting CP', 'Sevilla FC', 'SSC Napoli', 'Atalanta BC', 'VfL Wolfsburg', 'FC Porto', 'AS Monaco', 'Juventus FC', 'Stade Rennais FC', 'Ajax Amsterdam', 'Manchester City', 'Chelsea FC', 'SC Braga', 'LOSC Lille', 'Bologna FC 1909', 'Torino FC', 'Parma FC', 'Vitória Guimarães SC', 'PSV Eindhoven', 'OGC Nice', 'Olympique Marseille', 'AZ Alkmaar', 'UC Sampdoria', 'TSG 1899 Hoffenheim', 'Olympique Lyon', 'SS Lazio', 'VfB Stuttgart', 'Inter Milan', 'AC Milan', 'Chievo Verona', 'Atlético de Madrid', 'Tottenham Hotspur', 'Eintracht Frankfurt', 'West Ham United', 'Arsenal FC', 'Liverpool FC', 'Bayer 04 Leverkusen', 'Hellas Verona', 'Paris Saint-Germain', 'US Palermo', 'FC Toulouse', 'Valencia CF', 'Aston Villa', 'Cagliari Calcio', 'Villarreal CF', '1.FSV Mainz 05', 'SV Werder Bremen', 'US Sassuolo', 'AS Saint-Étienne', 'Newcastle United', 'FC Groningen', 'CS Marítimo', 'Borussia Dortmund', 'FC Schalke 04', 'Wolverhampton Wanderers', 'Feyenoord Rotterdam', 'Manchester United', 'FC Girondins Bordeaux', 'FC Paços de Ferreira', 'Southampton FC', 'Twente Enschede FC', 'Bayern Munich', 'SC Heerenveen', 'Granada CF', 'Everton FC', 'FC Lorient', 'Rio Ave FC', 'FC Barcelona', 'FC Augsburg', 'Real Betis Balompié', 'Borussia Mönchengladbach', 'Brighton & Hove Albion', 'FC Utrecht', 'Stade Reims', 'Hamburger SV', 'Sunderland AFC', 'Real Madrid', 'SC Freiburg', 'Málaga CF', 'Fulham FC', 'Swansea City', 'Montpellier HSC', 'Boavista FC', 'RB Leipzig', 'Hertha BSC', 'Leicester City', 'Vitesse Arnhem', 'FC Nantes', 'Vitória Setúbal FC', 'Celta de Vigo', 'RCD Espanyol Barcelona', 'Getafe CF', 'Watford FC', 'FC Metz', 'CD Nacional']\n",
      "{0: ['AS Saint-Étienne', 'LOSC Lille', 'Wolverhampton Wanderers', 'Olympique Lyon', 'FC Lorient', 'Chelsea FC', 'Olympique Marseille', 'West Ham United', 'Stade Reims', 'FC Girondins Bordeaux', 'Fulham FC', 'Everton FC', 'Paris Saint-Germain', 'Montpellier HSC', 'FC Nantes', 'Manchester City', 'Sunderland AFC', 'Liverpool FC', 'OGC Nice', 'Southampton FC', 'Arsenal FC', 'FC Toulouse', 'Stade Rennais FC', 'FC Metz', 'Watford FC', 'Newcastle United', 'AS Monaco', 'Aston Villa', 'Tottenham Hotspur', 'Brighton & Hove Albion', 'Leicester City', 'Swansea City'], 1: ['Vitória Setúbal FC', 'Vitória Guimarães SC', 'Valencia CF', 'Málaga CF', 'Sevilla FC', 'Rio Ave FC', 'Boavista FC', 'Real Madrid', 'Getafe CF', 'Villarreal CF', 'FC Paços de Ferreira', 'SL Benfica', 'FC Barcelona', 'Atlético de Madrid', 'Granada CF', 'FC Porto', 'CS Marítimo', 'Sporting CP', 'SC Braga', 'Celta de Vigo', 'Real Betis Balompié', 'RCD Espanyol Barcelona', 'CD Nacional'], 2: ['SC Freiburg', 'FC Groningen', 'Twente Enschede FC', 'AZ Alkmaar', 'VfB Stuttgart', 'VfL Wolfsburg', 'Borussia Mönchengladbach', 'Hertha BSC', 'SC Heerenveen', 'FC Utrecht', 'Manchester United', 'Vitesse Arnhem', 'Eintracht Frankfurt', '1.FSV Mainz 05', 'TSG 1899 Hoffenheim', 'RB Leipzig', 'Borussia Dortmund', 'Bayern Munich', 'Bayer 04 Leverkusen', 'FC Schalke 04', 'Hamburger SV', 'PSV Eindhoven', 'Ajax Amsterdam', 'SV Werder Bremen', 'Feyenoord Rotterdam', 'FC Augsburg'], 3: ['Udinese Calcio', 'SSC Napoli', 'Genoa CFC', 'UC Sampdoria', 'SS Lazio', 'Bologna FC 1909', 'AS Roma', 'US Palermo', 'Parma FC', 'Inter Milan', 'Chievo Verona', 'Torino FC', 'Juventus FC', 'Cagliari Calcio', 'AC Milan', 'Hellas Verona', 'ACF Fiorentina', 'Atalanta BC', 'US Sassuolo']}\n"
     ]
    }
   ],
   "source": [
    "central_nodes = sorted(degree_centrality, key=degree_centrality.get, reverse=True)[:100]\n",
    "print(central_nodes)\n",
    "\n",
    "subgraph = G.subgraph(central_nodes)\n",
    "sub_und = subgraph.to_undirected()\n",
    "\n",
    "partition = community.best_partition(sub_und)\n",
    "\n",
    "communities = {}\n",
    "for node, community_id in partition.items():\n",
    "    if community_id not in communities:\n",
    "        communities[community_id] = []\n",
    "    communities[community_id].append(node)\n",
    "\n",
    "print(communities)"
   ]
  },
  {
   "cell_type": "code",
   "execution_count": 10,
   "metadata": {},
   "outputs": [
    {
     "name": "stdout",
     "output_type": "stream",
     "text": [
      "0.4441735067574498\n"
     ]
    }
   ],
   "source": [
    "g_undirected = G.to_undirected()\n",
    "partition_g = community.best_partition(g_undirected)\n",
    "modularity = community.modularity(partition_g, g_undirected)\n",
    "print(modularity)\n"
   ]
  },
  {
   "cell_type": "code",
   "execution_count": 11,
   "metadata": {},
   "outputs": [
    {
     "name": "stdout",
     "output_type": "stream",
     "text": [
      "0.21011309939086234\n"
     ]
    }
   ],
   "source": [
    "modularity = community.modularity(partition, sub_und)\n",
    "print(modularity)"
   ]
  },
  {
   "cell_type": "markdown",
   "metadata": {},
   "source": [
    "### FUNCTION"
   ]
  },
  {
   "cell_type": "code",
   "execution_count": 12,
   "metadata": {},
   "outputs": [
    {
     "name": "stdout",
     "output_type": "stream",
     "text": [
      "{'transitivity': 0.0943225348273339, 'density': 0.0022821049015041145, 'assortativity': 0.018044380793770555, 'modularity': 0.4259074571664968, 'clustering': [('Chelsea FC U18', 1.0), ('Rochdale AFC', 1.0), ('SK Sigma Olomouc', 1.0), ('Chelsea FC Reserves', 1.0), ('Manchester City U18', 1.0), ('Arsenal FC Reserves', 1.0), ('Chunnam Dragons', 1.0), ('Wrexham AFC', 1.0), ('Borussia Dortmund U19', 1.0), ('Crewe Alexandra', 1.0)]}\n"
     ]
    }
   ],
   "source": [
    "print(cohesion_metrics(G))"
   ]
  },
  {
   "cell_type": "code",
   "execution_count": null,
   "metadata": {},
   "outputs": [],
   "source": []
  }
 ],
 "metadata": {
  "kernelspec": {
   "display_name": ".venv",
   "language": "python",
   "name": "python3"
  },
  "language_info": {
   "codemirror_mode": {
    "name": "ipython",
    "version": 3
   },
   "file_extension": ".py",
   "mimetype": "text/x-python",
   "name": "python",
   "nbconvert_exporter": "python",
   "pygments_lexer": "ipython3",
   "version": "3.10.11"
  }
 },
 "nbformat": 4,
 "nbformat_minor": 2
}
